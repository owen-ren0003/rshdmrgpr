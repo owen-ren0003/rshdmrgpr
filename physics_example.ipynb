{
 "cells": [
  {
   "cell_type": "code",
   "execution_count": 1,
   "metadata": {},
   "outputs": [
    {
     "ename": "ModuleNotFoundError",
     "evalue": "No module named 'rshdmrgpr.rs_hdmr_gpr1'",
     "output_type": "error",
     "traceback": [
      "\u001b[1;31m---------------------------------------------------------------------------\u001b[0m",
      "\u001b[1;31mModuleNotFoundError\u001b[0m                       Traceback (most recent call last)",
      "\u001b[1;32m<ipython-input-1-131d87460d35>\u001b[0m in \u001b[0;36m<module>\u001b[1;34m\u001b[0m\n\u001b[0;32m     15\u001b[0m \u001b[1;32mfrom\u001b[0m \u001b[0msklearn\u001b[0m\u001b[1;33m.\u001b[0m\u001b[0mgaussian_process\u001b[0m \u001b[1;32mimport\u001b[0m \u001b[0mGaussianProcessRegressor\u001b[0m\u001b[1;33m\u001b[0m\u001b[1;33m\u001b[0m\u001b[0m\n\u001b[0;32m     16\u001b[0m \u001b[1;33m\u001b[0m\u001b[0m\n\u001b[1;32m---> 17\u001b[1;33m \u001b[1;32mfrom\u001b[0m \u001b[0mrshdmrgpr\u001b[0m\u001b[1;33m.\u001b[0m\u001b[0mrs_hdmr_gpr1\u001b[0m \u001b[1;32mimport\u001b[0m \u001b[1;33m*\u001b[0m\u001b[1;33m\u001b[0m\u001b[1;33m\u001b[0m\u001b[0m\n\u001b[0m",
      "\u001b[1;31mModuleNotFoundError\u001b[0m: No module named 'rshdmrgpr.rs_hdmr_gpr1'"
     ]
    }
   ],
   "source": [
    "from itertools import combinations\n",
    "import math\n",
    "import os\n",
    "\n",
    "from itertools import combinations\n",
    "import lightgbm\n",
    "import numpy as np\n",
    "import pandas as pd\n",
    "import matplotlib.pyplot as plt\n",
    "from mpl_toolkits.mplot3d import Axes3D\n",
    "from sklearn.metrics import mean_squared_error\n",
    "from sklearn.preprocessing import MinMaxScaler\n",
    "from sklearn.model_selection import train_test_split\n",
    "from sklearn.gaussian_process.kernels import *\n",
    "from sklearn.gaussian_process import GaussianProcessRegressor\n",
    "\n",
    "from rshdmrgpr.rs_hdmr_gpr1 import *"
   ]
  },
  {
   "cell_type": "code",
   "execution_count": null,
   "metadata": {},
   "outputs": [],
   "source": [
    "def print_kernel_info(models):\n",
    "    idx = 1\n",
    "    for model in models:\n",
    "        print(f\"Component function {idx} optimized kernel: {model.kernel_}\")\n",
    "        idx += 1"
   ]
  },
  {
   "cell_type": "markdown",
   "metadata": {},
   "source": [
    "This notebook supplements the research paper:  \n",
    "  \n",
    "<font color='red'>**Random Sampling High Dimensional Model Representation Gaussian Process Regression (RS-HDMR-GPR): a code for representing multidimensional functions with lower-dimensional terms**</font>\n",
    "    \n",
    "The following section contains code used to generate the figures in Sections 3.2."
   ]
  },
  {
   "cell_type": "code",
   "execution_count": null,
   "metadata": {},
   "outputs": [],
   "source": [
    "# Extracts the data set\n",
    "data = load_data('KED')"
   ]
  },
  {
   "cell_type": "code",
   "execution_count": null,
   "metadata": {},
   "outputs": [],
   "source": [
    "data.min()"
   ]
  },
  {
   "cell_type": "code",
   "execution_count": null,
   "metadata": {},
   "outputs": [],
   "source": [
    "# Scales the data set to be between [0, 1]\n",
    "scale = data['out'].max() - data['out'].min()\n",
    "scaler = MinMaxScaler(feature_range=(0, 1))\n",
    "scaler.fit(data)\n",
    "data_scaled = pd.DataFrame(scaler.transform(data), columns=data.columns)"
   ]
  },
  {
   "cell_type": "code",
   "execution_count": null,
   "metadata": {},
   "outputs": [],
   "source": [
    "features = data_scaled.drop(columns=['out'])\n",
    "labels = data_scaled['out']"
   ]
  },
  {
   "cell_type": "code",
   "execution_count": null,
   "metadata": {},
   "outputs": [],
   "source": [
    "data.head()"
   ]
  },
  {
   "cell_type": "code",
   "execution_count": null,
   "metadata": {},
   "outputs": [],
   "source": [
    "data.shape"
   ]
  },
  {
   "cell_type": "markdown",
   "metadata": {},
   "source": [
    "##### Helper Functions"
   ]
  },
  {
   "cell_type": "code",
   "execution_count": null,
   "metadata": {},
   "outputs": [],
   "source": [
    "def get_RMSE(y, y_pred):\n",
    "    \"\"\"Computes the RMSE between two vectors\"\"\"\n",
    "    rmse = math.sqrt(mean_squared_error(y, y_pred))\n",
    "    print(f'The RMSE is {rmse}')\n",
    "    return rmse"
   ]
  },
  {
   "cell_type": "markdown",
   "metadata": {},
   "source": [
    "### Full GPR Fits"
   ]
  },
  {
   "cell_type": "code",
   "execution_count": null,
   "metadata": {},
   "outputs": [],
   "source": [
    "# We prepare 3 sets of training and testing data of sizes: 500, 2000 and 5000\n",
    "x_train1, x_test1, y_train1, y_test1 = train_test_split(data_scaled.drop(columns=['out']), data_scaled['out'], train_size=500, test_size=None, random_state=42)\n",
    "x_train2, x_test2, y_train2, y_test2 = train_test_split(data_scaled.drop(columns=['out']), data_scaled['out'], train_size=2000, test_size=None, random_state=42)\n",
    "x_train3, x_test3, y_train3, y_test3 = train_test_split(data_scaled.drop(columns=['out']), data_scaled['out'], train_size=5000, test_size=None, random_state=42)\n",
    "d = data.shape[1] - 1"
   ]
  },
  {
   "cell_type": "code",
   "execution_count": null,
   "metadata": {},
   "outputs": [],
   "source": [
    "# FullGPR initializations. Only isotropic kernels are used.\n",
    "gpr1 = GaussianProcessRegressor(kernel=RBF(0.5), alpha=5*1e-4, n_restarts_optimizer=1, optimizer=None)\n",
    "gpr2 = GaussianProcessRegressor(kernel=RBF(0.5), alpha=5*1e-4, n_restarts_optimizer=1, optimizer=None)\n",
    "gpr3 = GaussianProcessRegressor(kernel=RBF(0.5), alpha=5*1e-5, n_restarts_optimizer=1, optimizer=None)"
   ]
  },
  {
   "cell_type": "code",
   "execution_count": null,
   "metadata": {},
   "outputs": [],
   "source": [
    "gpr1.fit(x_train1, y_train1)"
   ]
  },
  {
   "cell_type": "code",
   "execution_count": null,
   "metadata": {},
   "outputs": [],
   "source": [
    "gpr2.fit(x_train2, y_train2)"
   ]
  },
  {
   "cell_type": "code",
   "execution_count": null,
   "metadata": {},
   "outputs": [],
   "source": [
    "gpr3.fit(x_train3, y_train3)"
   ]
  },
  {
   "cell_type": "code",
   "execution_count": null,
   "metadata": {},
   "outputs": [],
   "source": [
    "# Length scale results after fit:\n",
    "print(gpr1.kernel_, gpr2.kernel_, gpr3.kernel_)"
   ]
  },
  {
   "cell_type": "code",
   "execution_count": null,
   "metadata": {},
   "outputs": [],
   "source": [
    "y_pred1 = batch_predict(gpr1, features)"
   ]
  },
  {
   "cell_type": "code",
   "execution_count": null,
   "metadata": {},
   "outputs": [],
   "source": [
    "y_pred2 = batch_predict(gpr2, features)"
   ]
  },
  {
   "cell_type": "code",
   "execution_count": null,
   "metadata": {},
   "outputs": [],
   "source": [
    "y_pred3 = batch_predict(gpr3, features)"
   ]
  },
  {
   "cell_type": "code",
   "execution_count": null,
   "metadata": {},
   "outputs": [],
   "source": [
    "get_RMSE(y_pred1 * scale, labels * scale)\n",
    "get_RMSE(y_pred2 * scale, labels * scale)\n",
    "get_RMSE(y_pred3 * scale, labels * scale)"
   ]
  },
  {
   "cell_type": "code",
   "execution_count": null,
   "metadata": {},
   "outputs": [],
   "source": [
    "print('R^2 value for the 500 point fit is:', np.corrcoef(y_pred1 * scale, data_scaled['out'] * scale)[0, 1] ** 2)\n",
    "print('R^2 value for the 2000 point fit is:', np.corrcoef(y_pred2 * scale, data_scaled['out'] * scale)[0, 1] ** 2)\n",
    "print('R^2 value for the 5000 point fit is:', np.corrcoef(y_pred3 * scale, data_scaled['out'] * scale)[0, 1] ** 2)"
   ]
  },
  {
   "cell_type": "code",
   "execution_count": null,
   "metadata": {},
   "outputs": [],
   "source": [
    "# 500 points\n",
    "correlation_plot(data_scaled['out'] * scale, y_pred1 * scale, xlabel='Target', ylabel='Prediction')\n",
    "# plot_for_paper(data_scaled['out'] * scale, y_pred1 * scale, xlabel='Target', ylabel='Prediction', name=f'fullGPR_500.png', save=True)"
   ]
  },
  {
   "cell_type": "code",
   "execution_count": null,
   "metadata": {},
   "outputs": [],
   "source": [
    "# 2000 points\n",
    "correlation_plot(data_scaled['out'] * scale, y_pred2 * scale, xlabel='Target', ylabel='Prediction')\n",
    "# plot_for_paper(data_scaled['out'] * scale, y_pred2 * scale, xlabel='Target', ylabel='Prediction', name=f'fullGPR_2000.png', save=True)"
   ]
  },
  {
   "cell_type": "code",
   "execution_count": null,
   "metadata": {},
   "outputs": [],
   "source": [
    "# 5000 points\n",
    "correlation_plot(data_scaled['out'] * scale, y_pred3 * scale, xlabel='Target', ylabel='Prediction')\n",
    "# plot_for_paper(data_scaled['out'] * scale, y_pred3 * scale, xlabel='Target', ylabel='Prediction', name=f'fullGPR_5000.png', save=True)"
   ]
  },
  {
   "cell_type": "markdown",
   "metadata": {},
   "source": [
    "### HDMR FITS"
   ]
  },
  {
   "cell_type": "code",
   "execution_count": null,
   "metadata": {},
   "outputs": [],
   "source": [
    "# Initializes the Model classes for training\n",
    "matrices1, kernels1 = kernel_matrices(1, 7, length_scale=0.5)#, length_scale_bounds=(0.3, 10000))\n",
    "matrices2, kernels2 = kernel_matrices(2, 7, length_scale=0.5)#, length_scale_bounds=(0.3, 10000))\n",
    "matrices3, kernels3 = kernel_matrices(3, 7, length_scale=0.5)#, length_scale_bounds=(0.3, 10000))\n",
    "matrices4, kernels4 = kernel_matrices(4, 7, length_scale=0.5)#, length_scale_bounds=(0.3, 10000))\n",
    "matrices5, kernels5 = kernel_matrices(5, 7, length_scale=0.5)#, length_scale_bounds=(0.3, 10000))\n",
    "matrices6, kernels6 = kernel_matrices(6, 7, length_scale=0.5)#, length_scale_bounds=(0.3, 10000))\n",
    "matrices7, kernels7 = kernel_matrices(7, 7, length_scale=0.5)#, length_scale_bounds=(0.3, 10000))\n",
    "hdmr_1d = RSHDMRGPR(matrices1, kernels1)\n",
    "hdmr_2d = RSHDMRGPR(matrices2, kernels2)\n",
    "hdmr_3d = RSHDMRGPR(matrices3, kernels3)\n",
    "hdmr_4d = RSHDMRGPR(matrices4, kernels4)\n",
    "hdmr_5d = RSHDMRGPR(matrices5, kernels5)\n",
    "hdmr_6d = RSHDMRGPR(matrices6, kernels6)\n",
    "hdmr_7d = RSHDMRGPR(matrices7, kernels7)"
   ]
  },
  {
   "cell_type": "code",
   "execution_count": null,
   "metadata": {},
   "outputs": [],
   "source": [
    "# models = [hdmr_1d, hdmr_2d, hdmr_3d, hdmr_4d, hdmr_5d,hdmr_6d, hdmr_7d]\n",
    "hdmr = [hdmr_1d, hdmr_2d, hdmr_3d, hdmr_4d, hdmr_5d, hdmr_6d, hdmr_7d]\n",
    "alphas = [3 * 1e-3, 8 * 1e-4, 3 * 1e-4, 8 * 1e-5, 3 * 1e-5, 8 * 1e-6, 3 * 1e-6]"
   ]
  },
  {
   "cell_type": "code",
   "execution_count": null,
   "metadata": {},
   "outputs": [],
   "source": [
    "sequential_fitting(x_train1, y_train1, hdmr, alphas=alphas, cycles=50, optimizer=\"fmin_l_bfgs_b\", opt_every=5, scale_down=(0.2, 2))"
   ]
  },
  {
   "cell_type": "code",
   "execution_count": null,
   "metadata": {},
   "outputs": [],
   "source": [
    "preds1 = sequential_prediction(data_scaled.drop(columns=['out']), hdmr)"
   ]
  },
  {
   "cell_type": "code",
   "execution_count": null,
   "metadata": {},
   "outputs": [],
   "source": [
    "i = 1\n",
    "for p in preds1:\n",
    "    v = np.corrcoef(p * scale, data_scaled['out'] * scale)[0,1]\n",
    "    print(f'R^2 for the {i}d-hdmr fit is', v ** 2)\n",
    "    i += 1"
   ]
  },
  {
   "cell_type": "code",
   "execution_count": null,
   "metadata": {},
   "outputs": [],
   "source": [
    "i = 1\n",
    "for p in preds1:\n",
    "    get_RMSE(p * scale, data_scaled['out'] * scale)\n",
    "    i += 1"
   ]
  },
  {
   "cell_type": "code",
   "execution_count": null,
   "metadata": {},
   "outputs": [],
   "source": [
    "idx = 1\n",
    "for model in hdmr:\n",
    "    print(f\"Model {idx}'s hyperparameters:\")\n",
    "    print_kernel_info(model.get_models())\n",
    "    idx += 1"
   ]
  },
  {
   "cell_type": "code",
   "execution_count": null,
   "metadata": {},
   "outputs": [],
   "source": []
  },
  {
   "cell_type": "code",
   "execution_count": null,
   "metadata": {},
   "outputs": [],
   "source": []
  },
  {
   "cell_type": "code",
   "execution_count": null,
   "metadata": {},
   "outputs": [],
   "source": []
  }
 ],
 "metadata": {
  "kernelspec": {
   "display_name": "Python [conda env:pureai2] *",
   "language": "python",
   "name": "conda-env-pureai2-py"
  },
  "language_info": {
   "codemirror_mode": {
    "name": "ipython",
    "version": 3
   },
   "file_extension": ".py",
   "mimetype": "text/x-python",
   "name": "python",
   "nbconvert_exporter": "python",
   "pygments_lexer": "ipython3",
   "version": "3.6.10"
  }
 },
 "nbformat": 4,
 "nbformat_minor": 4
}
